{
 "cells": [
  {
   "cell_type": "code",
   "execution_count": 9,
   "metadata": {},
   "outputs": [],
   "source": [
    "import numpy as np\n",
    "from scipy.stats import ttest_ind\n",
    "import matplotlib.pyplot as plt"
   ]
  },
  {
   "cell_type": "code",
   "execution_count": 5,
   "metadata": {},
   "outputs": [],
   "source": [
    "version_A = np.random.normal(loc=10, scale=2, size=1000)\n",
    "version_B = np.random.normal(loc=12, scale=2, size=1000)"
   ]
  },
  {
   "cell_type": "code",
   "execution_count": 8,
   "metadata": {},
   "outputs": [
    {
     "name": "stdout",
     "output_type": "stream",
     "text": [
      "t = -23.224\n",
      "p =  0.000\n"
     ]
    }
   ],
   "source": [
    "#ttest to compare the means of 2 data sets\n",
    "t, p = ttest_ind(version_A, version_B)\n",
    "\n",
    "print(f\"t = {t: .3f}\")\n",
    "print(f\"p = {p: .3f}\")"
   ]
  },
  {
   "cell_type": "code",
   "execution_count": 11,
   "metadata": {},
   "outputs": [
    {
     "data": {
      "image/png": "[encoded data removed]",
      "text/plain": [
       "<Figure size 432x288 with 1 Axes>"
      ]
     },
     "metadata": {
      "needs_background": "light"
     },
     "output_type": "display_data"
    }
   ],
   "source": [
    "mean_A = np.mean(version_A)\n",
    "mean_B = np.mean(version_B)\n",
    "\n",
    "plt.hist(version_A, alpha=0.5, label=\"Version A\")\n",
    "plt.hist(version_B, alpha=0.5, label=\"Version B\")\n",
    "plt.axvline(mean_A, color='b', linestyle='dashed', linewidth=1)\n",
    "plt.axvline(mean_B, color='r', linestyle='dashed', linewidth=1)\n",
    "plt.legend(loc='upper right')\n",
    "plt.show()"
   ]
  }
 ],
 "metadata": {
  "kernelspec": {
   "display_name": "base",
   "language": "python",
   "name": "python3"
  },
  "language_info": {
   "codemirror_mode": {
    "name": "ipython",
    "version": 3
   },
   "file_extension": ".py",
   "mimetype": "text/x-python",
   "name": "python",
   "nbconvert_exporter": "python",
   "pygments_lexer": "ipython3",
   "version": "3.8.3"
  }
 },
 "nbformat": 4,
 "nbformat_minor": 2
}
